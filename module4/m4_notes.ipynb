{
 "cells": [
  {
   "cell_type": "code",
   "execution_count": null,
   "metadata": {},
   "outputs": [],
   "source": [
    "## Iterables\n",
    "Include comprehensions, iterable objects, and iterators. We can briefly discuss the lazy evaluation model with generators\n",
    "\n",
    "\n",
    "###List comprehensions\n",
    "The shorthand of comprehensions will make your code more readable, expressive, and effective"
   ]
  },
  {
   "cell_type": "code",
   "execution_count": 2,
   "metadata": {},
   "outputs": [
    {
     "data": {
      "text/plain": [
       "['I', 'am', 'very', 'happy', 'today', 'to', 'learn', 'about', 'comprehension']"
      ]
     },
     "execution_count": 2,
     "metadata": {},
     "output_type": "execute_result"
    }
   ],
   "source": [
    "words = \"I am very happy today to learn about comprehension\".split()\n",
    "\n",
    "words\n",
    "\n",
    "# []"
   ]
  },
  {
   "cell_type": "code",
   "execution_count": 3,
   "metadata": {},
   "outputs": [
    {
     "data": {
      "text/plain": [
       "range(1, 21)"
      ]
     },
     "execution_count": 3,
     "metadata": {},
     "output_type": "execute_result"
    }
   ],
   "source": [
    "# using list of comprehension, calculate the length(number of digits)\n",
    "from math import factorial\n",
    "# find first 1-20 factorial numbers\n",
    "\n",
    "l = range(1,21)\n",
    "l\n",
    "\n",
    "# What is lazy evaluation? Object initialized by not used yet. like the range above."
   ]
  },
  {
   "cell_type": "code",
   "execution_count": 4,
   "metadata": {},
   "outputs": [
    {
     "data": {
      "text/plain": [
       "[1,\n",
       " 2,\n",
       " 6,\n",
       " 24,\n",
       " 120,\n",
       " 720,\n",
       " 5040,\n",
       " 40320,\n",
       " 362880,\n",
       " 3628800,\n",
       " 39916800,\n",
       " 479001600,\n",
       " 6227020800,\n",
       " 87178291200,\n",
       " 1307674368000,\n",
       " 20922789888000,\n",
       " 355687428096000,\n",
       " 6402373705728000,\n",
       " 121645100408832000,\n",
       " 2432902008176640000]"
      ]
     },
     "execution_count": 4,
     "metadata": {},
     "output_type": "execute_result"
    }
   ],
   "source": [
    "numbers = [factorial(number) for number in range(1,21)]\n",
    "numbers"
   ]
  },
  {
   "cell_type": "code",
   "execution_count": 5,
   "metadata": {},
   "outputs": [
    {
     "name": "stdout",
     "output_type": "stream",
     "text": [
      "THe length of the first 20 factorials numbers are: [1, 1, 1, 2, 3, 3, 4, 5, 6, 7, 8, 9, 10, 11, 13, 14, 15, 16, 18, 19]\n"
     ]
    }
   ],
   "source": [
    "numbers = [len(str(factorial(number))) for number in range(1,21)]\n",
    "print(f'THe length of the first 20 factorials numbers are: {numbers}')"
   ]
  },
  {
   "cell_type": "markdown",
   "metadata": {},
   "source": [
    "## Set comprehensions\n",
    "\n",
    "General form:\n",
    "```\n",
    "{expr(item) for item in iterable}\n",
    "```\n"
   ]
  },
  {
   "cell_type": "code",
   "execution_count": 6,
   "metadata": {},
   "outputs": [
    {
     "name": "stdout",
     "output_type": "stream",
     "text": [
      "Unique list of length of the first 20 factorials numbers are: {1, 2, 3, 4, 5, 6, 7, 8, 9, 10, 11, 13, 14, 15, 16, 18, 19}\n"
     ]
    }
   ],
   "source": [
    "# Task: Create a listof unique length of the first 2o factorials\n",
    "numbers = {len(str(factorial(number))) for number in range(1,21)}\n",
    "print(f'Unique list of length of the first 20 factorials numbers are: {numbers}')"
   ]
  },
  {
   "cell_type": "markdown",
   "metadata": {},
   "source": [
    "## Dictionary comprehensions\n",
    "General form:\n",
    "```\n",
    "{key_expr:value for item in itarable}\n",
    "```"
   ]
  },
  {
   "cell_type": "code",
   "execution_count": 7,
   "metadata": {},
   "outputs": [
    {
     "name": "stdout",
     "output_type": "stream",
     "text": [
      "{'Warriors': 'San Francisco', 'Laker': 'Los Angeles', 'Jazz': 'Salt Lake City'}\n",
      "{'San Francisco': 'Warriors', 'Los Angeles': 'Laker', 'Salt Lake City': 'Jazz'}\n"
     ]
    }
   ],
   "source": [
    "nba_teams = {'Warriors':'San Francisco', 'Laker':'Los Angeles', 'Jazz': 'Salt Lake City'}\n",
    "# create a dictionary comprehension\n",
    "teams_nba = {city:mascot for mascot, city in nba_teams.items()}\n",
    "print(nba_teams)\n",
    "print(teams_nba)"
   ]
  },
  {
   "cell_type": "markdown",
   "metadata": {},
   "source": [
    "## Filtering predicates\n",
    "You may use `optional` filtering predicate\n",
    "\n",
    "General form:\n",
    "```\n",
    "[expr(item) for item in iterable if predicate(item)]\n",
    "```"
   ]
  },
  {
   "cell_type": "code",
   "execution_count": 9,
   "metadata": {},
   "outputs": [
    {
     "name": "stdout",
     "output_type": "stream",
     "text": [
      "Prime number is first1 100 digits [2, 3, 5, 7, 11, 13, 17, 19, 23, 29, 31, 37, 41, 43, 47, 53, 59, 61, 67, 71, 73, 79, 83, 89, 97]\n"
     ]
    }
   ],
   "source": [
    "from math import sqrt\n",
    "def is_prime(number):\n",
    "    if number <2:\n",
    "        return False\n",
    "    for i in range(2,int(sqrt(number))+1):\n",
    "        if number % i ==0:\n",
    "            return False\n",
    "    return True\n",
    "\n",
    "# Task: Create a list of prime numbers in the first 100 numbers\n",
    "prime = [x for x in range(101) if is_prime(x)]\n",
    "print(f'Prime number is first1 100 digits {prime}')\n",
    "    "
   ]
  },
  {
   "cell_type": "markdown",
   "metadata": {},
   "source": [
    "# Moment of ZEN: Simple is better than Complex.\n",
    "# Code is written once, but read over and over\n",
    "# Few is clearer"
   ]
  },
  {
   "cell_type": "code",
   "execution_count": 10,
   "metadata": {},
   "outputs": [
    {
     "name": "stdout",
     "output_type": "stream",
     "text": [
      "The Zen of Python, by Tim Peters\n",
      "\n",
      "Beautiful is better than ugly.\n",
      "Explicit is better than implicit.\n",
      "Simple is better than complex.\n",
      "Complex is better than complicated.\n",
      "Flat is better than nested.\n",
      "Sparse is better than dense.\n",
      "Readability counts.\n",
      "Special cases aren't special enough to break the rules.\n",
      "Although practicality beats purity.\n",
      "Errors should never pass silently.\n",
      "Unless explicitly silenced.\n",
      "In the face of ambiguity, refuse the temptation to guess.\n",
      "There should be one-- and preferably only one --obvious way to do it.\n",
      "Although that way may not be obvious at first unless you're Dutch.\n",
      "Now is better than never.\n",
      "Although never is often better than *right* now.\n",
      "If the implementation is hard to explain, it's a bad idea.\n",
      "If the implementation is easy to explain, it may be a good idea.\n",
      "Namespaces are one honking great idea -- let's do more of those!\n"
     ]
    }
   ],
   "source": [
    "import this"
   ]
  },
  {
   "cell_type": "markdown",
   "metadata": {},
   "source": [
    "# TODO\n",
    " - Iteration Protocol\n",
    " - Generators"
   ]
  },
  {
   "cell_type": "markdown",
   "metadata": {},
   "source": []
  }
 ],
 "metadata": {
  "kernelspec": {
   "display_name": "Python 3",
   "language": "python",
   "name": "python3"
  },
  "language_info": {
   "codemirror_mode": {
    "name": "ipython",
    "version": 3
   },
   "file_extension": ".py",
   "mimetype": "text/x-python",
   "name": "python",
   "nbconvert_exporter": "python",
   "pygments_lexer": "ipython3",
   "version": "3.12.5"
  }
 },
 "nbformat": 4,
 "nbformat_minor": 2
}
